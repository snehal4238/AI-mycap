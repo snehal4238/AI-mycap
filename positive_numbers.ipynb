{
 "cells": [
  {
   "cell_type": "markdown",
   "id": "255723af",
   "metadata": {},
   "source": [
    "#### print all positive numbers in range \n"
   ]
  },
  {
   "cell_type": "code",
   "execution_count": 4,
   "id": "ea1e71df",
   "metadata": {},
   "outputs": [],
   "source": [
    "list1=[12,-7,5,64,-14]\n",
    "list2=[12,14,-95,3]\n"
   ]
  },
  {
   "cell_type": "code",
   "execution_count": 5,
   "id": "de3702b0",
   "metadata": {},
   "outputs": [
    {
     "name": "stdout",
     "output_type": "stream",
     "text": [
      "12\n",
      "5\n",
      "64\n",
      "[12, 14, 3]\n"
     ]
    }
   ],
   "source": [
    "for x in list1: \n",
    "    if x>0:\n",
    "        print(x)\n",
    "\n",
    "nl=[n for n in list2 if n>0] #to print in list method i used []*\n",
    "print(nl)\n"
   ]
  },
  {
   "cell_type": "code",
   "execution_count": null,
   "id": "3e38039f",
   "metadata": {},
   "outputs": [],
   "source": []
  }
 ],
 "metadata": {
  "kernelspec": {
   "display_name": "Python 3 (ipykernel)",
   "language": "python",
   "name": "python3"
  },
  "language_info": {
   "codemirror_mode": {
    "name": "ipython",
    "version": 3
   },
   "file_extension": ".py",
   "mimetype": "text/x-python",
   "name": "python",
   "nbconvert_exporter": "python",
   "pygments_lexer": "ipython3",
   "version": "3.9.12"
  }
 },
 "nbformat": 4,
 "nbformat_minor": 5
}
