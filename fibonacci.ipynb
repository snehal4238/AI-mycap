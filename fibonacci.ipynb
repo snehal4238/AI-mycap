{
 "cells": [
  {
   "cell_type": "markdown",
   "id": "53fa5add",
   "metadata": {},
   "source": [
    "#### fibonacci numbers"
   ]
  },
  {
   "cell_type": "code",
   "execution_count": 4,
   "id": "e25d57d1",
   "metadata": {},
   "outputs": [
    {
     "name": "stdout",
     "output_type": "stream",
     "text": [
      "enter range10\n",
      "0\n",
      "1\n",
      "2\n",
      "3\n",
      "5\n",
      "8\n",
      "13\n",
      "21\n",
      "34\n",
      "55\n"
     ]
    }
   ],
   "source": [
    "def fibo(x):\n",
    "    a= 0\n",
    "    b= 1\n",
    "    print(a)\n",
    "    print(b)\n",
    "\n",
    "    for i in range(2,x):\n",
    "        c= a+b\n",
    "        a=b\n",
    "        b=c\n",
    "        print(a+b)\n",
    "fibo(int(input(\"enter range\")))\n"
   ]
  },
  {
   "cell_type": "code",
   "execution_count": null,
   "id": "a15d2eb2",
   "metadata": {},
   "outputs": [],
   "source": []
  }
 ],
 "metadata": {
  "kernelspec": {
   "display_name": "Python 3 (ipykernel)",
   "language": "python",
   "name": "python3"
  },
  "language_info": {
   "codemirror_mode": {
    "name": "ipython",
    "version": 3
   },
   "file_extension": ".py",
   "mimetype": "text/x-python",
   "name": "python",
   "nbconvert_exporter": "python",
   "pygments_lexer": "ipython3",
   "version": "3.9.12"
  }
 },
 "nbformat": 4,
 "nbformat_minor": 5
}
